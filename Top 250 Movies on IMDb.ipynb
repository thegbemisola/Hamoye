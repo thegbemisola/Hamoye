{
 "cells": [
  {
   "cell_type": "markdown",
   "id": "5342748c",
   "metadata": {},
   "source": [
    "## Top 250 Movies On IMDb\n",
    "\n",
    "IMDb(Internet Movies Database) is an online database of information related to films, television series, home videos, video games, and streaming content online – including cast, production crew and personal biographies, plot summaries, trivia, ratings, and fan and critical reviews. IMDb which began as a fan-operated movie database  as grown to be one of the most popular and trusted source for tv, movies reviews etc content.\n",
    "\n",
    "This project explores data of a list of the top 250 movies on IMDb. It seeks to understand the characteristics of these movies / by what criteria IMDb uses to qualify them as 'TOP'.\n",
    "\n",
    "The data used for this project was scrapped form IMDb website, processed and explored to bring about insights."
   ]
  },
  {
   "cell_type": "code",
   "execution_count": 69,
   "id": "ee610746",
   "metadata": {},
   "outputs": [],
   "source": [
    "# Importing Packages\n",
    "\n",
    "import pandas as pd\n",
    "import numpy as np\n",
    "import matplotlib.pyplot as plt\n",
    "import seaborn as sns\n",
    "\n",
    "import requests\n",
    "import os\n",
    "from bs4 import BeautifulSoup"
   ]
  },
  {
   "cell_type": "code",
   "execution_count": 70,
   "id": "f0467210",
   "metadata": {},
   "outputs": [],
   "source": [
    "pd.set_option('display.max_rows', 500)\n",
    "pd.set_option('display.max_columns', 500)\n",
    "pd.set_option('display.width', 1000)"
   ]
  },
  {
   "cell_type": "markdown",
   "id": "64b25065",
   "metadata": {},
   "source": [
    "### Data Gathering\n",
    "Information to be gathered includes:\n",
    "* movie_name : name of the movie\n",
    "* year : year it was released\n",
    "* runtime : duration of movies in min\n",
    "* genre: category of the film\n",
    "* rating : average rating by the voters\n",
    "* metascore:score given by metacritic\n",
    "* votes: number of users who gave ratings\n",
    "* gross : gross revenue of the movie in dollars(M)\n",
    "* rank : rank of the movie on the list from 1-250"
   ]
  },
  {
   "cell_type": "code",
   "execution_count": 71,
   "id": "9bfee500",
   "metadata": {},
   "outputs": [],
   "source": [
    "#Making a list of the urls since they are split into 5 pages\n",
    "urls = ['https://www.imdb.com/search/title/?groups=top_250&sort=user_rating',\n",
    "       'https://www.imdb.com/search/title/?groups=top_250&sort=user_rating,desc&start=51&ref_=adv_nxt',\n",
    "       'https://www.imdb.com/search/title/?groups=top_250&sort=user_rating,desc&start=101&ref_=adv_nxt',\n",
    "       'https://www.imdb.com/search/title/?groups=top_250&sort=user_rating,desc&start=151&ref_=adv_nxt',\n",
    "       'https://www.imdb.com/search/title/?groups=top_250&sort=user_rating,desc&start=201&ref_=adv_nxt']"
   ]
  },
  {
   "cell_type": "code",
   "execution_count": 156,
   "id": "8ceb33db",
   "metadata": {},
   "outputs": [
    {
     "name": "stdout",
     "output_type": "stream",
     "text": [
      "<Response [200]>\n",
      "<Response [200]>\n",
      "<Response [200]>\n",
      "<Response [200]>\n",
      "<Response [200]>\n"
     ]
    }
   ],
   "source": [
    "# Making a list to store the scrapped information\n",
    "df_list = []\n",
    "\n",
    "# Looping through each url\n",
    "for url in urls:\n",
    "    response = requests.get(url)\n",
    "    print(response)\n",
    "    soup = BeautifulSoup(response.content, 'html.parser')\n",
    "    movie_data = soup.find_all('div', class_= 'lister-item-content')\n",
    "\n",
    "    #looping through each movie description\n",
    "    for movie in movie_data:\n",
    "        movie_name = movie.h3.a.text\n",
    "        year = movie.h3.find('span', class_ =\"lister-item-year text-muted unbold\").text.replace('(', '').replace(')', '').replace('I', '')\n",
    "        runtime = movie.p.find('span', class_ =\"runtime\").text.replace(' min', '')\n",
    "        genre = movie.p.find('span',  class_ =\"genre\").text.strip()\n",
    "        rating = movie.find('strong').text\n",
    "        metascore = movie.find('span',  class_ =\"metascore\").text.strip() if movie.find('span', class_ = 'metascore') else''\n",
    "        values = movie.find_all('span',  attrs = {'name':\"nv\"} )\n",
    "        votes = values[0].text.replace(',', '')\n",
    "        gross = values[1].text.replace('$', '').replace('M', '') if len(values) >  2 else ''\n",
    "        rank = values[1].text.replace('#', '') if len(values) == 2 else values[2].text.replace('#', '')\n",
    "\n",
    "         #Append to list of dictionaries\n",
    "        df_list.append({'movie_name': movie_name,\n",
    "                            'year': year,\n",
    "                       'runtime(min)': runtime,\n",
    "                       'genre': genre,\n",
    "                       'rating': rating,\n",
    "                       'metascore': metascore,\n",
    "                       'votes': votes,\n",
    "                       'gross($)(M)': gross, \n",
    "                       'rank': rank})\n",
    "    df = pd.DataFrame(df_list, columns = ['movie_name', 'year', 'runtime(min)', 'genre', 'rating', \n",
    "                                          'metascore', 'votes', 'gross($)(M)', 'rank'])"
   ]
  },
  {
   "cell_type": "code",
   "execution_count": 158,
   "id": "a89772d8",
   "metadata": {
    "scrolled": false
   },
   "outputs": [
    {
     "data": {
      "text/html": [
       "<div>\n",
       "<style scoped>\n",
       "    .dataframe tbody tr th:only-of-type {\n",
       "        vertical-align: middle;\n",
       "    }\n",
       "\n",
       "    .dataframe tbody tr th {\n",
       "        vertical-align: top;\n",
       "    }\n",
       "\n",
       "    .dataframe thead th {\n",
       "        text-align: right;\n",
       "    }\n",
       "</style>\n",
       "<table border=\"1\" class=\"dataframe\">\n",
       "  <thead>\n",
       "    <tr style=\"text-align: right;\">\n",
       "      <th></th>\n",
       "      <th>movie_name</th>\n",
       "      <th>year</th>\n",
       "      <th>runtime(min)</th>\n",
       "      <th>genre</th>\n",
       "      <th>rating</th>\n",
       "      <th>metascore</th>\n",
       "      <th>votes</th>\n",
       "      <th>gross($)(M)</th>\n",
       "      <th>rank</th>\n",
       "    </tr>\n",
       "  </thead>\n",
       "  <tbody>\n",
       "    <tr>\n",
       "      <th>205</th>\n",
       "      <td>Salinui chueok</td>\n",
       "      <td>2003</td>\n",
       "      <td>131</td>\n",
       "      <td>Crime, Drama, Mystery</td>\n",
       "      <td>8.1</td>\n",
       "      <td>82</td>\n",
       "      <td>185587</td>\n",
       "      <td>0.01</td>\n",
       "      <td>196</td>\n",
       "    </tr>\n",
       "    <tr>\n",
       "      <th>30</th>\n",
       "      <td>Shichinin no samurai</td>\n",
       "      <td>1954</td>\n",
       "      <td>207</td>\n",
       "      <td>Action, Drama</td>\n",
       "      <td>8.6</td>\n",
       "      <td>98</td>\n",
       "      <td>346574</td>\n",
       "      <td>0.27</td>\n",
       "      <td>20</td>\n",
       "    </tr>\n",
       "    <tr>\n",
       "      <th>66</th>\n",
       "      <td>Taare Zameen Par</td>\n",
       "      <td>2007</td>\n",
       "      <td>165</td>\n",
       "      <td>Drama, Family</td>\n",
       "      <td>8.4</td>\n",
       "      <td></td>\n",
       "      <td>194343</td>\n",
       "      <td>1.22</td>\n",
       "      <td>122</td>\n",
       "    </tr>\n",
       "    <tr>\n",
       "      <th>216</th>\n",
       "      <td>In the Name of the Father</td>\n",
       "      <td>1993</td>\n",
       "      <td>133</td>\n",
       "      <td>Biography, Crime, Drama</td>\n",
       "      <td>8.1</td>\n",
       "      <td>84</td>\n",
       "      <td>176291</td>\n",
       "      <td>25.01</td>\n",
       "      <td>189</td>\n",
       "    </tr>\n",
       "    <tr>\n",
       "      <th>156</th>\n",
       "      <td>The Elephant Man</td>\n",
       "      <td>1980</td>\n",
       "      <td>124</td>\n",
       "      <td>Biography, Drama</td>\n",
       "      <td>8.2</td>\n",
       "      <td>78</td>\n",
       "      <td>242571</td>\n",
       "      <td></td>\n",
       "      <td>155</td>\n",
       "    </tr>\n",
       "    <tr>\n",
       "      <th>117</th>\n",
       "      <td>Ladri di biciclette</td>\n",
       "      <td>1948</td>\n",
       "      <td>89</td>\n",
       "      <td>Drama</td>\n",
       "      <td>8.3</td>\n",
       "      <td></td>\n",
       "      <td>164506</td>\n",
       "      <td>0.33</td>\n",
       "      <td>120</td>\n",
       "    </tr>\n",
       "    <tr>\n",
       "      <th>124</th>\n",
       "      <td>Green Book</td>\n",
       "      <td>2018</td>\n",
       "      <td>130</td>\n",
       "      <td>Biography, Comedy, Drama</td>\n",
       "      <td>8.2</td>\n",
       "      <td>69</td>\n",
       "      <td>491548</td>\n",
       "      <td>85.08</td>\n",
       "      <td>132</td>\n",
       "    </tr>\n",
       "    <tr>\n",
       "      <th>147</th>\n",
       "      <td>Bacheha-Ye aseman</td>\n",
       "      <td>1997</td>\n",
       "      <td>89</td>\n",
       "      <td>Drama, Family, Sport</td>\n",
       "      <td>8.2</td>\n",
       "      <td>77</td>\n",
       "      <td>75441</td>\n",
       "      <td>0.93</td>\n",
       "      <td>175</td>\n",
       "    </tr>\n",
       "    <tr>\n",
       "      <th>120</th>\n",
       "      <td>M - Eine Stadt sucht einen Mörder</td>\n",
       "      <td>1931</td>\n",
       "      <td>117</td>\n",
       "      <td>Crime, Mystery, Thriller</td>\n",
       "      <td>8.3</td>\n",
       "      <td></td>\n",
       "      <td>158962</td>\n",
       "      <td>0.03</td>\n",
       "      <td>97</td>\n",
       "    </tr>\n",
       "    <tr>\n",
       "      <th>208</th>\n",
       "      <td>Amores perros</td>\n",
       "      <td>2000</td>\n",
       "      <td>154</td>\n",
       "      <td>Drama, Thriller</td>\n",
       "      <td>8.1</td>\n",
       "      <td>83</td>\n",
       "      <td>241599</td>\n",
       "      <td>5.38</td>\n",
       "      <td>237</td>\n",
       "    </tr>\n",
       "  </tbody>\n",
       "</table>\n",
       "</div>"
      ],
      "text/plain": [
       "                            movie_name  year runtime(min)                     genre rating metascore   votes gross($)(M) rank\n",
       "205                     Salinui chueok  2003          131     Crime, Drama, Mystery    8.1        82  185587        0.01  196\n",
       "30                Shichinin no samurai  1954          207             Action, Drama    8.6        98  346574        0.27   20\n",
       "66                    Taare Zameen Par  2007          165             Drama, Family    8.4            194343        1.22  122\n",
       "216          In the Name of the Father  1993          133   Biography, Crime, Drama    8.1        84  176291       25.01  189\n",
       "156                   The Elephant Man  1980          124          Biography, Drama    8.2        78  242571              155\n",
       "117                Ladri di biciclette  1948           89                     Drama    8.3            164506        0.33  120\n",
       "124                         Green Book  2018          130  Biography, Comedy, Drama    8.2        69  491548       85.08  132\n",
       "147                  Bacheha-Ye aseman  1997           89      Drama, Family, Sport    8.2        77   75441        0.93  175\n",
       "120  M - Eine Stadt sucht einen Mörder  1931          117  Crime, Mystery, Thriller    8.3            158962        0.03   97\n",
       "208                      Amores perros  2000          154           Drama, Thriller    8.1        83  241599        5.38  237"
      ]
     },
     "execution_count": 158,
     "metadata": {},
     "output_type": "execute_result"
    }
   ],
   "source": [
    "df.sample(10)"
   ]
  },
  {
   "cell_type": "code",
   "execution_count": 159,
   "id": "ec829925",
   "metadata": {},
   "outputs": [],
   "source": [
    "# Save data to csv file\n",
    "df.to_csv('Top 250 Movies IMDb.csv', index=False)"
   ]
  },
  {
   "cell_type": "markdown",
   "id": "71cd9fe4",
   "metadata": {},
   "source": [
    "### Data processing / Cleaning"
   ]
  },
  {
   "cell_type": "code",
   "execution_count": 170,
   "id": "a28c620e",
   "metadata": {
    "scrolled": true
   },
   "outputs": [
    {
     "data": {
      "text/html": [
       "<div>\n",
       "<style scoped>\n",
       "    .dataframe tbody tr th:only-of-type {\n",
       "        vertical-align: middle;\n",
       "    }\n",
       "\n",
       "    .dataframe tbody tr th {\n",
       "        vertical-align: top;\n",
       "    }\n",
       "\n",
       "    .dataframe thead th {\n",
       "        text-align: right;\n",
       "    }\n",
       "</style>\n",
       "<table border=\"1\" class=\"dataframe\">\n",
       "  <thead>\n",
       "    <tr style=\"text-align: right;\">\n",
       "      <th></th>\n",
       "      <th>movie_name</th>\n",
       "      <th>year</th>\n",
       "      <th>runtime(min)</th>\n",
       "      <th>genre</th>\n",
       "      <th>rating</th>\n",
       "      <th>metascore</th>\n",
       "      <th>votes</th>\n",
       "      <th>gross($)(M)</th>\n",
       "      <th>rank</th>\n",
       "    </tr>\n",
       "  </thead>\n",
       "  <tbody>\n",
       "    <tr>\n",
       "      <th>17</th>\n",
       "      <td>The Empire Strikes Back</td>\n",
       "      <td>1980</td>\n",
       "      <td>124</td>\n",
       "      <td>Action, Adventure, Fantasy</td>\n",
       "      <td>8.7</td>\n",
       "      <td>82.0</td>\n",
       "      <td>1290373</td>\n",
       "      <td>290.48</td>\n",
       "      <td>15</td>\n",
       "    </tr>\n",
       "    <tr>\n",
       "      <th>45</th>\n",
       "      <td>Back to the Future</td>\n",
       "      <td>1985</td>\n",
       "      <td>116</td>\n",
       "      <td>Adventure, Comedy, Sci-Fi</td>\n",
       "      <td>8.5</td>\n",
       "      <td>87.0</td>\n",
       "      <td>1203022</td>\n",
       "      <td>210.61</td>\n",
       "      <td>30</td>\n",
       "    </tr>\n",
       "    <tr>\n",
       "      <th>2</th>\n",
       "      <td>The Dark Knight</td>\n",
       "      <td>2008</td>\n",
       "      <td>152</td>\n",
       "      <td>Action, Crime, Drama</td>\n",
       "      <td>9.0</td>\n",
       "      <td>84.0</td>\n",
       "      <td>2645938</td>\n",
       "      <td>534.86</td>\n",
       "      <td>3</td>\n",
       "    </tr>\n",
       "    <tr>\n",
       "      <th>175</th>\n",
       "      <td>The General</td>\n",
       "      <td>1926</td>\n",
       "      <td>67</td>\n",
       "      <td>Action, Adventure, Comedy</td>\n",
       "      <td>8.2</td>\n",
       "      <td>NaN</td>\n",
       "      <td>92264</td>\n",
       "      <td>1.03</td>\n",
       "      <td>186</td>\n",
       "    </tr>\n",
       "    <tr>\n",
       "      <th>107</th>\n",
       "      <td>2001: A Space Odyssey</td>\n",
       "      <td>1968</td>\n",
       "      <td>149</td>\n",
       "      <td>Adventure, Sci-Fi</td>\n",
       "      <td>8.3</td>\n",
       "      <td>84.0</td>\n",
       "      <td>669535</td>\n",
       "      <td>56.95</td>\n",
       "      <td>92</td>\n",
       "    </tr>\n",
       "    <tr>\n",
       "      <th>67</th>\n",
       "      <td>WALL·E</td>\n",
       "      <td>2008</td>\n",
       "      <td>98</td>\n",
       "      <td>Animation, Adventure, Family</td>\n",
       "      <td>8.4</td>\n",
       "      <td>95.0</td>\n",
       "      <td>1114762</td>\n",
       "      <td>223.81</td>\n",
       "      <td>57</td>\n",
       "    </tr>\n",
       "    <tr>\n",
       "      <th>49</th>\n",
       "      <td>Psycho</td>\n",
       "      <td>1960</td>\n",
       "      <td>109</td>\n",
       "      <td>Horror, Mystery, Thriller</td>\n",
       "      <td>8.5</td>\n",
       "      <td>97.0</td>\n",
       "      <td>672257</td>\n",
       "      <td>32.00</td>\n",
       "      <td>32</td>\n",
       "    </tr>\n",
       "    <tr>\n",
       "      <th>53</th>\n",
       "      <td>City Lights</td>\n",
       "      <td>1931</td>\n",
       "      <td>87</td>\n",
       "      <td>Comedy, Drama, Romance</td>\n",
       "      <td>8.5</td>\n",
       "      <td>99.0</td>\n",
       "      <td>185535</td>\n",
       "      <td>0.02</td>\n",
       "      <td>52</td>\n",
       "    </tr>\n",
       "    <tr>\n",
       "      <th>188</th>\n",
       "      <td>12 Years a Slave</td>\n",
       "      <td>2013</td>\n",
       "      <td>134</td>\n",
       "      <td>Biography, Drama, History</td>\n",
       "      <td>8.1</td>\n",
       "      <td>96.0</td>\n",
       "      <td>701829</td>\n",
       "      <td>56.67</td>\n",
       "      <td>180</td>\n",
       "    </tr>\n",
       "    <tr>\n",
       "      <th>215</th>\n",
       "      <td>Before Sunrise</td>\n",
       "      <td>1995</td>\n",
       "      <td>101</td>\n",
       "      <td>Drama, Romance</td>\n",
       "      <td>8.1</td>\n",
       "      <td>77.0</td>\n",
       "      <td>309572</td>\n",
       "      <td>5.54</td>\n",
       "      <td>179</td>\n",
       "    </tr>\n",
       "  </tbody>\n",
       "</table>\n",
       "</div>"
      ],
      "text/plain": [
       "                  movie_name  year  runtime(min)                         genre  rating  metascore    votes  gross($)(M)  rank\n",
       "17   The Empire Strikes Back  1980           124    Action, Adventure, Fantasy     8.7       82.0  1290373       290.48    15\n",
       "45        Back to the Future  1985           116     Adventure, Comedy, Sci-Fi     8.5       87.0  1203022       210.61    30\n",
       "2            The Dark Knight  2008           152          Action, Crime, Drama     9.0       84.0  2645938       534.86     3\n",
       "175              The General  1926            67     Action, Adventure, Comedy     8.2        NaN    92264         1.03   186\n",
       "107    2001: A Space Odyssey  1968           149             Adventure, Sci-Fi     8.3       84.0   669535        56.95    92\n",
       "67                    WALL·E  2008            98  Animation, Adventure, Family     8.4       95.0  1114762       223.81    57\n",
       "49                    Psycho  1960           109     Horror, Mystery, Thriller     8.5       97.0   672257        32.00    32\n",
       "53               City Lights  1931            87        Comedy, Drama, Romance     8.5       99.0   185535         0.02    52\n",
       "188         12 Years a Slave  2013           134     Biography, Drama, History     8.1       96.0   701829        56.67   180\n",
       "215           Before Sunrise  1995           101                Drama, Romance     8.1       77.0   309572         5.54   179"
      ]
     },
     "execution_count": 170,
     "metadata": {},
     "output_type": "execute_result"
    }
   ],
   "source": [
    "data = pd.read_csv('Top 250 Movies IMDb.csv')\n",
    "data.sample(10)"
   ]
  },
  {
   "cell_type": "code",
   "execution_count": 171,
   "id": "49968ed5",
   "metadata": {
    "scrolled": true
   },
   "outputs": [
    {
     "name": "stdout",
     "output_type": "stream",
     "text": [
      "<class 'pandas.core.frame.DataFrame'>\n",
      "RangeIndex: 250 entries, 0 to 249\n",
      "Data columns (total 9 columns):\n",
      " #   Column        Non-Null Count  Dtype  \n",
      "---  ------        --------------  -----  \n",
      " 0   movie_name    250 non-null    object \n",
      " 1   year          250 non-null    int64  \n",
      " 2   runtime(min)  250 non-null    int64  \n",
      " 3   genre         250 non-null    object \n",
      " 4   rating        250 non-null    float64\n",
      " 5   metascore     229 non-null    float64\n",
      " 6   votes         250 non-null    int64  \n",
      " 7   gross($)(M)   220 non-null    float64\n",
      " 8   rank          250 non-null    int64  \n",
      "dtypes: float64(3), int64(4), object(2)\n",
      "memory usage: 17.7+ KB\n"
     ]
    }
   ],
   "source": [
    "data.info()"
   ]
  },
  {
   "cell_type": "markdown",
   "id": "ca560998",
   "metadata": {},
   "source": [
    "### Data Analysis / Visualization"
   ]
  },
  {
   "cell_type": "code",
   "execution_count": 175,
   "id": "5a881821",
   "metadata": {
    "scrolled": false
   },
   "outputs": [
    {
     "data": {
      "text/html": [
       "<div>\n",
       "<style scoped>\n",
       "    .dataframe tbody tr th:only-of-type {\n",
       "        vertical-align: middle;\n",
       "    }\n",
       "\n",
       "    .dataframe tbody tr th {\n",
       "        vertical-align: top;\n",
       "    }\n",
       "\n",
       "    .dataframe thead th {\n",
       "        text-align: right;\n",
       "    }\n",
       "</style>\n",
       "<table border=\"1\" class=\"dataframe\">\n",
       "  <thead>\n",
       "    <tr style=\"text-align: right;\">\n",
       "      <th></th>\n",
       "      <th>year</th>\n",
       "      <th>runtime(min)</th>\n",
       "      <th>rating</th>\n",
       "      <th>metascore</th>\n",
       "      <th>votes</th>\n",
       "      <th>gross($)(M)</th>\n",
       "      <th>rank</th>\n",
       "    </tr>\n",
       "  </thead>\n",
       "  <tbody>\n",
       "    <tr>\n",
       "      <th>count</th>\n",
       "      <td>250.000000</td>\n",
       "      <td>250.000000</td>\n",
       "      <td>250.000000</td>\n",
       "      <td>229.000000</td>\n",
       "      <td>2.500000e+02</td>\n",
       "      <td>220.000000</td>\n",
       "      <td>250.000000</td>\n",
       "    </tr>\n",
       "    <tr>\n",
       "      <th>mean</th>\n",
       "      <td>1986.488000</td>\n",
       "      <td>129.008000</td>\n",
       "      <td>8.309600</td>\n",
       "      <td>82.397380</td>\n",
       "      <td>6.382201e+05</td>\n",
       "      <td>98.075000</td>\n",
       "      <td>125.500000</td>\n",
       "    </tr>\n",
       "    <tr>\n",
       "      <th>std</th>\n",
       "      <td>25.225287</td>\n",
       "      <td>29.817112</td>\n",
       "      <td>0.227938</td>\n",
       "      <td>10.898422</td>\n",
       "      <td>5.155909e+05</td>\n",
       "      <td>137.176537</td>\n",
       "      <td>72.312977</td>\n",
       "    </tr>\n",
       "    <tr>\n",
       "      <th>min</th>\n",
       "      <td>1921.000000</td>\n",
       "      <td>45.000000</td>\n",
       "      <td>8.000000</td>\n",
       "      <td>55.000000</td>\n",
       "      <td>3.033700e+04</td>\n",
       "      <td>0.010000</td>\n",
       "      <td>1.000000</td>\n",
       "    </tr>\n",
       "    <tr>\n",
       "      <th>25%</th>\n",
       "      <td>1966.250000</td>\n",
       "      <td>108.000000</td>\n",
       "      <td>8.100000</td>\n",
       "      <td>75.000000</td>\n",
       "      <td>2.221732e+05</td>\n",
       "      <td>6.182500</td>\n",
       "      <td>63.250000</td>\n",
       "    </tr>\n",
       "    <tr>\n",
       "      <th>50%</th>\n",
       "      <td>1994.000000</td>\n",
       "      <td>126.500000</td>\n",
       "      <td>8.200000</td>\n",
       "      <td>84.000000</td>\n",
       "      <td>4.922405e+05</td>\n",
       "      <td>41.330000</td>\n",
       "      <td>125.500000</td>\n",
       "    </tr>\n",
       "    <tr>\n",
       "      <th>75%</th>\n",
       "      <td>2006.750000</td>\n",
       "      <td>145.000000</td>\n",
       "      <td>8.400000</td>\n",
       "      <td>90.000000</td>\n",
       "      <td>9.573938e+05</td>\n",
       "      <td>140.922500</td>\n",
       "      <td>187.750000</td>\n",
       "    </tr>\n",
       "    <tr>\n",
       "      <th>max</th>\n",
       "      <td>2022.000000</td>\n",
       "      <td>238.000000</td>\n",
       "      <td>9.300000</td>\n",
       "      <td>100.000000</td>\n",
       "      <td>2.673004e+06</td>\n",
       "      <td>858.370000</td>\n",
       "      <td>250.000000</td>\n",
       "    </tr>\n",
       "  </tbody>\n",
       "</table>\n",
       "</div>"
      ],
      "text/plain": [
       "              year  runtime(min)      rating   metascore         votes  gross($)(M)        rank\n",
       "count   250.000000    250.000000  250.000000  229.000000  2.500000e+02   220.000000  250.000000\n",
       "mean   1986.488000    129.008000    8.309600   82.397380  6.382201e+05    98.075000  125.500000\n",
       "std      25.225287     29.817112    0.227938   10.898422  5.155909e+05   137.176537   72.312977\n",
       "min    1921.000000     45.000000    8.000000   55.000000  3.033700e+04     0.010000    1.000000\n",
       "25%    1966.250000    108.000000    8.100000   75.000000  2.221732e+05     6.182500   63.250000\n",
       "50%    1994.000000    126.500000    8.200000   84.000000  4.922405e+05    41.330000  125.500000\n",
       "75%    2006.750000    145.000000    8.400000   90.000000  9.573938e+05   140.922500  187.750000\n",
       "max    2022.000000    238.000000    9.300000  100.000000  2.673004e+06   858.370000  250.000000"
      ]
     },
     "execution_count": 175,
     "metadata": {},
     "output_type": "execute_result"
    }
   ],
   "source": [
    "# Summary Statistics\n",
    "data.describe()"
   ]
  },
  {
   "cell_type": "markdown",
   "id": "f7f6ba1c",
   "metadata": {},
   "source": [
    "### Univariate Analysis\n",
    "**Years with the most top Movies**"
   ]
  },
  {
   "cell_type": "code",
   "execution_count": 180,
   "id": "b6793526",
   "metadata": {},
   "outputs": [
    {
     "data": {
      "text/plain": [
       "1995    8\n",
       "2004    7\n",
       "2009    6\n",
       "2003    6\n",
       "1957    6\n",
       "2019    6\n",
       "1999    6\n",
       "1975    5\n",
       "2007    5\n",
       "2000    5\n",
       "Name: year, dtype: int64"
      ]
     },
     "execution_count": 180,
     "metadata": {},
     "output_type": "execute_result"
    }
   ],
   "source": [
    "year_10 = data['year'].value_counts().head(10)\n",
    "year_10"
   ]
  },
  {
   "cell_type": "code",
   "execution_count": 184,
   "id": "f8c0bd26",
   "metadata": {},
   "outputs": [
    {
     "data": {
      "image/png": "[encoded data removed]",
      "text/plain": [
       "<Figure size 432x288 with 1 Axes>"
      ]
     },
     "metadata": {
      "needs_background": "light"
     },
     "output_type": "display_data"
    }
   ],
   "source": [
    "year_10.plot(kind = 'bar', rot = 45)\n",
    "plt.title('Top 10 Years with most movies');"
   ]
  },
  {
   "cell_type": "markdown",
   "id": "0cf4170d",
   "metadata": {},
   "source": [
    "**Distributions**"
   ]
  },
  {
   "cell_type": "code",
   "execution_count": 201,
   "id": "5b2d0189",
   "metadata": {},
   "outputs": [
    {
     "data": {
      "image/png": "[encoded data removed]",
      "text/plain": [
       "<Figure size 432x288 with 1 Axes>"
      ]
     },
     "metadata": {
      "needs_background": "light"
     },
     "output_type": "display_data"
    }
   ],
   "source": [
    "# Histogram of votes\n",
    "plt.hist(data['votes'], bins = 20)\n",
    "plt.title('Distribution of votes');"
   ]
  },
  {
   "cell_type": "code",
   "execution_count": 203,
   "id": "83cf65e4",
   "metadata": {},
   "outputs": [
    {
     "data": {
      "image/png": "[encoded data removed]",
      "text/plain": [
       "<Figure size 432x288 with 1 Axes>"
      ]
     },
     "metadata": {
      "needs_background": "light"
     },
     "output_type": "display_data"
    }
   ],
   "source": [
    "sns.histplot(data['runtime(min)'], bins = 15)\n",
    "plt.title('Distribution of Runtime');"
   ]
  },
  {
   "cell_type": "code",
   "execution_count": 204,
   "id": "e9fb0386",
   "metadata": {
    "scrolled": true
   },
   "outputs": [
    {
     "data": {
      "image/png": "[encoded data removed]",
      "text/plain": [
       "<Figure size 432x288 with 1 Axes>"
      ]
     },
     "metadata": {
      "needs_background": "light"
     },
     "output_type": "display_data"
    }
   ],
   "source": [
    "sns.histplot(data['gross($)(M)'], bins = 20)\n",
    "plt.title('Distribution of Gross Revenue');"
   ]
  },
  {
   "cell_type": "markdown",
   "id": "58ea33ab",
   "metadata": {},
   "source": [
    "**Are the years with low gross revenues the old years?**"
   ]
  },
  {
   "cell_type": "code",
   "execution_count": 217,
   "id": "b38a34bc",
   "metadata": {
    "scrolled": true
   },
   "outputs": [
    {
     "data": {
      "image/png": "[encoded data removed]",
      "text/plain": [
       "<Figure size 432x288 with 1 Axes>"
      ]
     },
     "metadata": {
      "needs_background": "light"
     },
     "output_type": "display_data"
    }
   ],
   "source": [
    "plt.scatter(data = data, x='year', y='gross($)(M)')\n",
    "plt.xlabel('year')\n",
    "plt.ylabel('gross revenue')\n",
    "plt.title('Gross revenue and years');"
   ]
  },
  {
   "cell_type": "markdown",
   "id": "6ae27841",
   "metadata": {},
   "source": [
    "#### Comparing the Rankings with other features\n",
    "**Are the highest ranked movies the ones with very high gross revenue?**"
   ]
  },
  {
   "cell_type": "code",
   "execution_count": 220,
   "id": "c4f3745e",
   "metadata": {},
   "outputs": [
    {
     "data": {
      "image/png": "[encoded data removed]",
      "text/plain": [
       "<Figure size 432x288 with 1 Axes>"
      ]
     },
     "metadata": {
      "needs_background": "light"
     },
     "output_type": "display_data"
    }
   ],
   "source": [
    "plt.scatter(data = data, x='rank', y='gross($)(M)')\n",
    "plt.title('Relationship between gross revenue and ranking ')\n",
    "plt.ylabel('gross revenue')\n",
    "plt.xlabel('Rank');"
   ]
  },
  {
   "cell_type": "markdown",
   "id": "15137c5c",
   "metadata": {},
   "source": [
    "**Relationship between Rank and Runtime**"
   ]
  },
  {
   "cell_type": "code",
   "execution_count": 231,
   "id": "e3125de8",
   "metadata": {},
   "outputs": [
    {
     "data": {
      "image/png": "[encoded data removed]",
      "text/plain": [
       "<Figure size 432x288 with 1 Axes>"
      ]
     },
     "metadata": {
      "needs_background": "light"
     },
     "output_type": "display_data"
    }
   ],
   "source": [
    "plt.scatter(data = data, x='rank', y='runtime(min)')\n",
    "plt.xlabel('Rank')\n",
    "plt.ylabel('Runtime');"
   ]
  },
  {
   "cell_type": "markdown",
   "id": "ab29129b",
   "metadata": {},
   "source": [
    "**Relationship Between Metascore and Rank**"
   ]
  },
  {
   "cell_type": "code",
   "execution_count": 230,
   "id": "69f32a31",
   "metadata": {
    "scrolled": true
   },
   "outputs": [
    {
     "data": {
      "image/png": "[encoded data removed]",
      "text/plain": [
       "<Figure size 432x288 with 1 Axes>"
      ]
     },
     "metadata": {
      "needs_background": "light"
     },
     "output_type": "display_data"
    }
   ],
   "source": [
    "plt.scatter(data = data, x='rank', y='metascore')\n",
    "plt.xlabel('Rank')\n",
    "plt.ylabel('Metascore');"
   ]
  },
  {
   "cell_type": "markdown",
   "id": "2f35fab5",
   "metadata": {},
   "source": [
    "**Relationship between rank and Rating**"
   ]
  },
  {
   "cell_type": "code",
   "execution_count": 224,
   "id": "3e3a61e5",
   "metadata": {},
   "outputs": [
    {
     "data": {
      "image/png": "[encoded data removed]",
      "text/plain": [
       "<Figure size 432x288 with 1 Axes>"
      ]
     },
     "metadata": {
      "needs_background": "light"
     },
     "output_type": "display_data"
    }
   ],
   "source": [
    "plt.scatter(data = data, x='rank', y='rating')\n",
    "plt.xlabel('Rank')\n",
    "plt.ylabel('Rating')\n",
    "plt.title('Relationship between rank and rating');"
   ]
  },
  {
   "cell_type": "markdown",
   "id": "d9a9a91d",
   "metadata": {},
   "source": [
    "**Relationship Between Rating and votes**"
   ]
  },
  {
   "cell_type": "code",
   "execution_count": 227,
   "id": "9ae243c7",
   "metadata": {
    "scrolled": true
   },
   "outputs": [
    {
     "data": {
      "image/png": "[encoded data removed]",
      "text/plain": [
       "<Figure size 432x288 with 1 Axes>"
      ]
     },
     "metadata": {
      "needs_background": "light"
     },
     "output_type": "display_data"
    }
   ],
   "source": [
    "plt.scatter(data = data, x='rating', y='votes')\n",
    "plt.xlabel('Rank')\n",
    "plt.ylabel('Votes')\n",
    "plt.title('Relationship between rating and votes');"
   ]
  },
  {
   "cell_type": "markdown",
   "id": "be029a6e",
   "metadata": {},
   "source": [
    "**Relationship between Rank and Votes**"
   ]
  },
  {
   "cell_type": "code",
   "execution_count": 229,
   "id": "246b4c94",
   "metadata": {},
   "outputs": [
    {
     "data": {
      "image/png": "[encoded data removed]",
      "text/plain": [
       "<Figure size 432x288 with 1 Axes>"
      ]
     },
     "metadata": {
      "needs_background": "light"
     },
     "output_type": "display_data"
    }
   ],
   "source": [
    "plt.scatter(data = data, x='rank', y='votes')\n",
    "plt.xlabel('Rank')\n",
    "plt.ylabel('votes')\n",
    "plt.title('Relationship between rank and votes');"
   ]
  },
  {
   "cell_type": "markdown",
   "id": "c727abb1",
   "metadata": {},
   "source": [
    "**Heatmap showing correlation between variables**"
   ]
  },
  {
   "cell_type": "code",
   "execution_count": 215,
   "id": "85064d2e",
   "metadata": {},
   "outputs": [
    {
     "data": {
      "image/png": "[encoded data removed]",
      "text/plain": [
       "<Figure size 720x360 with 2 Axes>"
      ]
     },
     "metadata": {
      "needs_background": "light"
     },
     "output_type": "display_data"
    }
   ],
   "source": [
    "plt.figure(figsize = (10, 5))\n",
    "sns.heatmap(data.corr(),annot=True,cmap='vlag_r', fmt='.2f', center = 0);\n",
    "plt.title('Correlation of numeric variables', fontsize = 12);"
   ]
  },
  {
   "cell_type": "markdown",
   "id": "5e9c2848",
   "metadata": {},
   "source": [
    "### Findings\n",
    "* The data spanned movies released in a wide range of years (1921 – 2022). The year with the highest top movies was 1995. \n",
    "* The top 250 movies are high rated movies with a minimum of 8 and a maximum of 9.3. 75% of the data are rated around 8.\n",
    "* The above cannot really be said for the metascore. The metascore has a minimum of 55 and a maximum of 100.\n",
    "* The gross revenue of more than half of the movies are below 50M dollars and 25% of the movies are well above 140M dollars with the maximum over 800M dollars. These movies do well in revenue considering that most of these movies are from way old back where inflation had not taken over, so the money had a lot of value.\n",
    "* Majority of the movies are above 100 min and below 175 min duration.\n",
    "* High ranked movies have higher ratings.\n",
    "* There is a positive correlation between ratings and votes which is no surprise since the ratings are the average of the total  ratings the voters gave.\n",
    "* Votes and rank have the same relationship has rank and ratings. This can also be understood from the relationship between ratings and votes.\n",
    "* There is no significant relationship between rankings and the meatscore.\n"
   ]
  },
  {
   "cell_type": "markdown",
   "id": "6c1cb7f1",
   "metadata": {},
   "source": [
    "### Conclusion"
   ]
  },
  {
   "cell_type": "markdown",
   "id": "350baf27",
   "metadata": {},
   "source": [
    "The top 250 movies on IMDb are mostly dependent on the ratings which are done by voters(users) compared to the metascore which are done by the metacritics (movie critics)."
   ]
  },
  {
   "cell_type": "markdown",
   "id": "2b4709a1",
   "metadata": {},
   "source": [
    "### Limitation"
   ]
  },
  {
   "cell_type": "markdown",
   "id": "939a5b8b",
   "metadata": {},
   "source": [
    "The data was not enough to make concrete conclusions regarding the relationships between variables."
   ]
  }
 ],
 "metadata": {
  "kernelspec": {
   "display_name": "Python 3 (ipykernel)",
   "language": "python",
   "name": "python3"
  },
  "language_info": {
   "codemirror_mode": {
    "name": "ipython",
    "version": 3
   },
   "file_extension": ".py",
   "mimetype": "text/x-python",
   "name": "python",
   "nbconvert_exporter": "python",
   "pygments_lexer": "ipython3",
   "version": "3.9.7"
  }
 },
 "nbformat": 4,
 "nbformat_minor": 5
}
